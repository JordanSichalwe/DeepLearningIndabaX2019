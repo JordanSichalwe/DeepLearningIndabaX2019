{
 "cells": [
  {
   "cell_type": "markdown",
   "metadata": {
    "colab_type": "text",
    "id": "dEp2ozdOIJY0"
   },
   "source": [
    "# Deep Learning Indaba X-Zambia 2019. "
   ]
  },
  {
   "cell_type": "markdown",
   "metadata": {
    "colab_type": "text",
    "id": "Y3U6BdPXIJY6"
   },
   "source": [
    "#  by  F chikweto & Jordan Sichalwe"
   ]
  },
  {
   "cell_type": "markdown",
   "metadata": {
    "colab_type": "text",
    "id": "RYDBlktYIJY-"
   },
   "source": [
    "In this practical session.we shall learn about Supervised Learning (classification) on fashion datasets called MNIST fashion dataSet to classify different \n",
    "types of clothes"
   ]
  },
  {
   "cell_type": "code",
   "execution_count": 1,
   "metadata": {
    "colab": {
     "base_uri": "https://localhost:8080/",
     "height": 35
    },
    "colab_type": "code",
    "id": "ltV9GuTOIJZC",
    "outputId": "9b326283-26bb-4ba3-cbe3-ca5367a7e443"
   },
   "outputs": [],
   "source": [
    "#import neccessary libraries \n",
    "# numpy for matrix  and numeric computations\n",
    "#Tensorflow Library for  ML using keras \n",
    "#matplotlib for graphical visualizations\n",
    "\n"
   ]
  },
  {
   "cell_type": "code",
   "execution_count": 2,
   "metadata": {
    "colab": {
     "base_uri": "https://localhost:8080/",
     "height": 164
    },
    "colab_type": "code",
    "id": "d_a8-z-yIJZX",
    "outputId": "b7dd3104-5d4f-46f9-9b3c-77c0e8537a38"
   },
   "outputs": [],
   "source": [
    "# Import data set into Jupyter notebooks\n",
    "#Slip the labled data into training and test datasets\n"
   ]
  },
  {
   "cell_type": "code",
   "execution_count": 3,
   "metadata": {
    "colab": {},
    "colab_type": "code",
    "id": "-trRDfTIIJZh"
   },
   "outputs": [],
   "source": [
    "# Manually enter the names of the labels corresponding to the  dataset labels[ list turtorial]\n",
    "#clothes = ['T-shirt/top', 'Trouser', 'Pullover', 'Dress', 'Coat', \n",
    "               #'Sandal', 'Shirt', 'Sneaker', 'Bag', 'Ankle boot']\n"
   ]
  },
  {
   "cell_type": "code",
   "execution_count": 4,
   "metadata": {
    "colab": {
     "base_uri": "https://localhost:8080/",
     "height": 35
    },
    "colab_type": "code",
    "id": "HLZaOdejIJZp",
    "outputId": "b833fac8-450a-45fb-f4f6-91aec359110f"
   },
   "outputs": [],
   "source": [
    "#slip 10000 test sets and labels from the dataset\n",
    "#train_set shape = (60000, 28, 28) 28x28 images\n",
    "#train_labels = (60000,)labels *rep numbers \n",
    "\n"
   ]
  },
  {
   "cell_type": "code",
   "execution_count": 5,
   "metadata": {
    "colab": {
     "base_uri": "https://localhost:8080/",
     "height": 54
    },
    "colab_type": "code",
    "id": "KwbgmD4fIJZz",
    "outputId": "46d7cc8c-1478-4f1b-b5ee-01d69c590614"
   },
   "outputs": [],
   "source": [
    "#view labels\n",
    "\n",
    "#test_labels.shape is 10000"
   ]
  },
  {
   "cell_type": "code",
   "execution_count": 6,
   "metadata": {
    "colab": {
     "base_uri": "https://localhost:8080/",
     "height": 35
    },
    "colab_type": "code",
    "id": "9-o84-w2IJZ_",
    "outputId": "b29eaac4-54b4-4716-b41d-9b85cf5aeb35"
   },
   "outputs": [],
   "source": [
    "#Slip 50000 training sets from the original dataset\n"
   ]
  },
  {
   "cell_type": "code",
   "execution_count": null,
   "metadata": {
    "colab": {
     "base_uri": "https://localhost:8080/",
     "height": 35
    },
    "colab_type": "code",
    "id": "athNHueRIJaM",
    "outputId": "4dedc0c7-63ba-49c8-b855-60f2e9b5522e"
   },
   "outputs": [],
   "source": []
  },
  {
   "cell_type": "code",
   "execution_count": 7,
   "metadata": {
    "colab": {
     "base_uri": "https://localhost:8080/",
     "height": 281
    },
    "colab_type": "code",
    "id": "EoASSDNrIJah",
    "outputId": "0b04a438-5f5b-4671-9f8b-69d300c23b53"
   },
   "outputs": [],
   "source": [
    "# randomly select an item from the training dataset and view it\n",
    "\n",
    "#generate a random number\n"
   ]
  },
  {
   "cell_type": "code",
   "execution_count": 8,
   "metadata": {
    "colab": {
     "base_uri": "https://localhost:8080/",
     "height": 592
    },
    "colab_type": "code",
    "id": "Cf98g5DYIJay",
    "outputId": "813592ea-9e4f-42a3-ae84-b089575ceab0"
   },
   "outputs": [
    {
     "data": {
      "text/plain": [
       "'   \\nplt.figure(figsize=(12,12))\\nfor i in range(49):\\n  plt.subplot(7,7,i+1)\\n  plt.xticks([])\\n  plt.yticks([])\\n  plt.grid(False)\\n  plt.imshow(train_set[i], cmap=plt.cm.binary)\\n  plt.xlabel(clothes[train_labels[i]])\\nplt.show()'"
      ]
     },
     "execution_count": 8,
     "metadata": {},
     "output_type": "execute_result"
    }
   ],
   "source": [
    "#display 25 multiple items from the training set\n",
    "'''   \n",
    "plt.figure(figsize=(12,12))\n",
    "for i in range(49):\n",
    "  plt.subplot(7,7,i+1)\n",
    "  plt.xticks([])\n",
    "  plt.yticks([])\n",
    "  plt.grid(False)\n",
    "  plt.imshow(train_set[i], cmap=plt.cm.binary)\n",
    "  plt.xlabel(clothes[train_labels[i]])\n",
    "plt.show()'''"
   ]
  },
  {
   "cell_type": "markdown",
   "metadata": {
    "colab_type": "text",
    "id": "_hITn4-0IJa8"
   },
   "source": [
    "$\n",
    "Normaliztion\n",
    "$\n",
    "The input layer has a neuron associated with each pixel in the image for a total of 28 x 28 = 784 neurons, one for each pixel in the MNIST images.\n",
    "Typically, the values associated with each pixel are normalized in the range [0, 1] (which means that the intensity of each pixel is divided by 255, the maximum intensity value). The output is 10 classes, one for each digit.\n"
   ]
  },
  {
   "cell_type": "code",
   "execution_count": 9,
   "metadata": {
    "colab": {},
    "colab_type": "code",
    "id": "6dGKPGHoIJa-"
   },
   "outputs": [],
   "source": [
    "# normalize the  grayscale pixels values in the  data into Zero's and Ones\n",
    "\n"
   ]
  },
  {
   "cell_type": "code",
   "execution_count": 10,
   "metadata": {
    "colab": {
     "base_uri": "https://localhost:8080/",
     "height": 311
    },
    "colab_type": "code",
    "id": "CbqOCwSOIJbH",
    "outputId": "e0362ccc-dd6e-4479-9755-b4dad1d0c103"
   },
   "outputs": [],
   "source": [
    "#Start designing the network Architecture \n",
    "# 10 outputs\n",
    "# final stage is softmax to turn the outputs into probabilities\n",
    "#Define the neural network as a stack of layers(Sequential)\n",
    "#flattern convert the 2D tensor into one vector  since we are not using CNNs which deal with 2D and 3D images\n",
    "#Add a dense layer, try different values\n",
    "#Output layer 10 neurons\n",
    "\n"
   ]
  },
  {
   "cell_type": "markdown",
   "metadata": {
    "colab_type": "text",
    "id": "KGLNI-ODIJbS"
   },
   "source": [
    "We need to select the optimizer that is the specific algorithm used to update weights while we train our model"
   ]
  },
  {
   "cell_type": "code",
   "execution_count": 11,
   "metadata": {
    "colab": {},
    "colab_type": "code",
    "id": "ch6d9dBhIJbU"
   },
   "outputs": [],
   "source": [
    "#Compile the network\n",
    "#optimizer to minimize our loss function \n",
    "#adam\n",
    "#sparse_categorical cross entropy for multilabel classification\n",
    "\n",
    " "
   ]
  },
  {
   "cell_type": "code",
   "execution_count": 12,
   "metadata": {
    "colab": {},
    "colab_type": "code",
    "id": "mxfJ4_W5IJbb"
   },
   "outputs": [],
   "source": [
    "#Train the Model\n",
    "#provide the training set and labels\n",
    "#Epochs ,how many times the model is exposed to the training data(How long to train the model)\n",
    "#twitch the number of epochs to find the right acuurancy\n",
    "\n"
   ]
  },
  {
   "cell_type": "code",
   "execution_count": 13,
   "metadata": {
    "colab": {},
    "colab_type": "code",
    "id": "CoQBaAs_IJbl"
   },
   "outputs": [],
   "source": [
    "\n",
    "#Test the model on test dataset\n",
    "\n"
   ]
  },
  {
   "cell_type": "code",
   "execution_count": 14,
   "metadata": {
    "colab": {},
    "colab_type": "code",
    "id": "b1HO8RQ1IJbv"
   },
   "outputs": [],
   "source": [
    "#Predict \n"
   ]
  },
  {
   "cell_type": "code",
   "execution_count": 15,
   "metadata": {
    "colab": {},
    "colab_type": "code",
    "id": "Me4lDoGkIJcD"
   },
   "outputs": [],
   "source": [
    "#predictions[1]"
   ]
  },
  {
   "cell_type": "code",
   "execution_count": 16,
   "metadata": {
    "colab": {},
    "colab_type": "code",
    "id": "SNMFhplYIJcb"
   },
   "outputs": [],
   "source": [
    "#np.argmax(predictions[1])"
   ]
  },
  {
   "cell_type": "markdown",
   "metadata": {
    "colab_type": "text",
    "id": "V7M6Von9IJcr"
   },
   "source": [
    "Let's plot 25 several images with their predictions. Correct prediction labels are Green and incorrect prediction labels are red. "
   ]
  },
  {
   "cell_type": "code",
   "execution_count": 17,
   "metadata": {
    "colab": {},
    "colab_type": "code",
    "id": "A9z940CwIJcz"
   },
   "outputs": [
    {
     "data": {
      "text/plain": [
       "'  \\nplt.figure(figsize=(12,12))\\nfor i in range(49):\\n   plt.subplot(7,7,i+1)\\n   plt.xticks([])\\n   plt.yticks([])\\n   plt.grid(False)\\n   plt.imshow(test_set[i], cmap=plt.cm.binary)\\n   true_label=test_labels[i]\\n   predicted_label=np.argmax(predictions[i])\\n  \\n   if predicted_label == true_label:\\n     color = \\'green\\'\\n   else:\\n     color = \\'red\\'\\n \\n   plt.xlabel(\"{} ({})\".format(clothes[predicted_label],\\n                               clothes[true_label]),\\n                               color=color)'"
      ]
     },
     "execution_count": 17,
     "metadata": {},
     "output_type": "execute_result"
    }
   ],
   "source": [
    " '''  \n",
    "plt.figure(figsize=(12,12))\n",
    "for i in range(49):\n",
    "    plt.subplot(7,7,i+1)\n",
    "    plt.xticks([])\n",
    "    plt.yticks([])\n",
    "    plt.grid(False)\n",
    "    plt.imshow(test_set[i], cmap=plt.cm.binary)\n",
    "    true_label=test_labels[i]\n",
    "    predicted_label=np.argmax(predictions[i])\n",
    "   \n",
    "    if predicted_label == true_label:\n",
    "      color = 'green'\n",
    "    else:\n",
    "      color = 'red'\n",
    "  \n",
    "    plt.xlabel(\"{} ({})\".format(clothes[predicted_label],\n",
    "                                clothes[true_label]),\n",
    "                                color=color)'''"
   ]
  },
  {
   "cell_type": "code",
   "execution_count": 19,
   "metadata": {
    "colab": {},
    "colab_type": "code",
    "id": "GSNyagXVIJc8"
   },
   "outputs": [],
   "source": [
    "#Use drop out and more layers\n",
    "\n",
    "                                 "
   ]
  },
  {
   "cell_type": "code",
   "execution_count": 21,
   "metadata": {},
   "outputs": [],
   "source": [
    "#optmize and train the model\n"
   ]
  },
  {
   "cell_type": "code",
   "execution_count": 22,
   "metadata": {
    "colab": {},
    "colab_type": "code",
    "id": "HjqTHSlFIJdD"
   },
   "outputs": [],
   "source": [
    "#Test the new model on test dataset\n",
    "\n"
   ]
  },
  {
   "cell_type": "code",
   "execution_count": 23,
   "metadata": {
    "colab": {},
    "colab_type": "code",
    "id": "8I-h_vzePxyy"
   },
   "outputs": [],
   "source": [
    "#Predict \n"
   ]
  },
  {
   "cell_type": "code",
   "execution_count": 24,
   "metadata": {
    "colab": {},
    "colab_type": "code",
    "id": "-d5Lw5nBQESI"
   },
   "outputs": [],
   "source": [
    "\n",
    "#predict[1]"
   ]
  },
  {
   "cell_type": "code",
   "execution_count": 25,
   "metadata": {
    "colab": {},
    "colab_type": "code",
    "id": "QJSJewOYQLyc"
   },
   "outputs": [],
   "source": [
    "#np.argmax(predict[1])"
   ]
  },
  {
   "cell_type": "code",
   "execution_count": 26,
   "metadata": {
    "colab": {},
    "colab_type": "code",
    "id": "802DI5DPQYUn"
   },
   "outputs": [
    {
     "data": {
      "text/plain": [
       "'\\nplt.figure(figsize=(12,12))\\nfor i in range(49):\\n    plt.subplot(7,7,i+1)\\n    plt.xticks([])\\n    plt.yticks([])\\n    plt.grid(False)\\n    plt.imshow(test_set[i], cmap=plt.cm.binary)\\n    true_label=test_labels[i]\\n    predicted_label2=np.argmax(predict[i])\\n   \\n    if predicted_label2 == true_label:\\n      color = \\'green\\'\\n    else:\\n      color = \\'red\\'\\n  \\n    plt.xlabel(\"{} ({})\".format(clothes[predicted_label2],\\n                                clothes[true_label]),\\n                                color=color)'"
      ]
     },
     "execution_count": 26,
     "metadata": {},
     "output_type": "execute_result"
    }
   ],
   "source": [
    "'''\n",
    "plt.figure(figsize=(12,12))\n",
    "for i in range(49):\n",
    "    plt.subplot(7,7,i+1)\n",
    "    plt.xticks([])\n",
    "    plt.yticks([])\n",
    "    plt.grid(False)\n",
    "    plt.imshow(test_set[i], cmap=plt.cm.binary)\n",
    "    true_label=test_labels[i]\n",
    "    predicted_label2=np.argmax(predict[i])\n",
    "   \n",
    "    if predicted_label2 == true_label:\n",
    "      color = 'green'\n",
    "    else:\n",
    "      color = 'red'\n",
    "  \n",
    "    plt.xlabel(\"{} ({})\".format(clothes[predicted_label2],\n",
    "                                clothes[true_label]),\n",
    "                                color=color)'''"
   ]
  },
  {
   "cell_type": "code",
   "execution_count": null,
   "metadata": {
    "colab": {},
    "colab_type": "code",
    "id": "HgBR4Q-vgmnf"
   },
   "outputs": [],
   "source": []
  }
 ],
 "metadata": {
  "accelerator": "TPU",
  "colab": {
   "collapsed_sections": [],
   "name": "Indabazambia_(1).ipynb",
   "provenance": [],
   "version": "0.3.2"
  },
  "kernelspec": {
   "display_name": "Python 3",
   "language": "python",
   "name": "python3"
  },
  "language_info": {
   "codemirror_mode": {
    "name": "ipython",
    "version": 3
   },
   "file_extension": ".py",
   "mimetype": "text/x-python",
   "name": "python",
   "nbconvert_exporter": "python",
   "pygments_lexer": "ipython3",
   "version": "3.6.4"
  }
 },
 "nbformat": 4,
 "nbformat_minor": 1
}
